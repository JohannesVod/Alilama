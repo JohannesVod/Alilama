{
 "cells": [
  {
   "cell_type": "code",
   "execution_count": 4,
   "id": "0147330a",
   "metadata": {},
   "outputs": [],
   "source": [
    "import numpy as np\n",
    "import torch\n",
    "import torch.nn as nn\n",
    "import torch.nn.functional as F\n",
    "import matplotlib.pyplot as plt\n",
    "torch.set_printoptions(edgeitems=10, precision=2, linewidth=120, sci_mode=False)"
   ]
  },
  {
   "cell_type": "code",
   "execution_count": 5,
   "id": "c4979581",
   "metadata": {},
   "outputs": [],
   "source": [
    "def visMatr(matrix):\n",
    "    plt.imshow(matrix, cmap='viridis', interpolation='nearest')\n",
    "    plt.colorbar()\n",
    "    plt.title('Matrix Visualization')\n",
    "    plt.show()"
   ]
  },
  {
   "cell_type": "code",
   "execution_count": 6,
   "id": "430c23b5",
   "metadata": {},
   "outputs": [
    {
     "name": "stdout",
     "output_type": "stream",
     "text": [
      "tensor([[ 1.01,  0.32, -0.44],\n",
      "        [ 0.31,  0.13,  0.14],\n",
      "        [ 0.50, -0.28, -0.60],\n",
      "        [ 0.54,  0.87, -0.06],\n",
      "        [ 0.50, -0.28, -0.60],\n",
      "        [ 0.42,  0.26,  0.01],\n",
      "        [ 0.37,  0.13,  0.11],\n",
      "        [ 0.54,  0.87, -0.06],\n",
      "        [ 0.89, -0.44, -0.71],\n",
      "        [ 0.18,  0.56,  0.13],\n",
      "        [-0.10, -0.21,  0.15],\n",
      "        [ 0.18,  0.56,  0.13],\n",
      "        [ 0.23,  0.22, -0.05]], grad_fn=<AddmmBackward0>)\n",
      "tensor([[-0.10,  0.55,  0.43],\n",
      "        [ 0.25,  0.41, -0.27],\n",
      "        [-0.27,  0.34,  0.66],\n",
      "        [ 0.12,  0.37,  1.14],\n",
      "        [-0.27,  0.34,  0.66],\n",
      "        [ 0.17,  0.41,  0.11],\n",
      "        [ 0.23,  0.43, -0.28],\n",
      "        [ 0.12,  0.37,  1.14],\n",
      "        [-0.31,  0.51,  0.05],\n",
      "        [ 0.23,  0.29,  0.69],\n",
      "        [ 0.22,  0.27, -0.21],\n",
      "        [ 0.23,  0.29,  0.69],\n",
      "        [ 0.10,  0.31,  0.50]], grad_fn=<AddmmBackward0>)\n"
     ]
    },
    {
     "data": {
      "text/plain": [
       "tensor([[ 0.59,  0.01, -0.55],\n",
       "        [-0.01, -0.78, -0.21],\n",
       "        [ 1.42,  0.43, -0.03],\n",
       "        [ 0.15,  0.50, -1.37],\n",
       "        [ 1.42,  0.43, -0.03],\n",
       "        [ 0.15, -0.40, -0.44],\n",
       "        [ 0.01, -0.78, -0.20],\n",
       "        [ 0.15,  0.50, -1.37],\n",
       "        [ 1.34, -0.12,  0.34],\n",
       "        [ 0.07,  0.08, -0.94],\n",
       "        [ 0.34, -0.64,  0.09],\n",
       "        [ 0.07,  0.08, -0.94],\n",
       "        [ 0.44,  0.02, -0.53]], grad_fn=<AddmmBackward0>)"
      ]
     },
     "execution_count": 6,
     "metadata": {},
     "output_type": "execute_result"
    }
   ],
   "source": [
    "# Embedding demo:\n",
    "example = \"Tom mag kiwis\"\n",
    "alphabet = \"abcdefghijklmnopqrstuvwxyzABCDEFGHIJKLMNOPQRSTUVWXYZ \"\n",
    "dictionary = {alphabet[i]:i for i in range(len(alphabet))}\n",
    "tokenized = [dictionary[i] for i in example]\n",
    "detokenized = [alphabet[i] for i in tokenized]\n",
    "\n",
    "len_alphabet = len(alphabet)\n",
    "embedding = nn.Embedding(len_alphabet, 3)\n",
    "# embedding.weight = nn.Parameter(torch.ones((len_alphabet, 3), dtype=torch.float32))\n",
    "\n",
    "tokenized = torch.tensor(tokenized, dtype=torch.long)\n",
    "embedded = embedding(tokenized)\n",
    "\n",
    "quer_proj = nn.Linear(3, 3)\n",
    "key_proj = nn.Linear(3, 3)\n",
    "val_proj = nn.Linear(3, 3)\n",
    "\n",
    "Q = quer_proj(embedded)\n",
    "K = key_proj(embedded)\n",
    "V = val_proj(embedded)\n",
    "print(Q)\n",
    "print(K)\n",
    "V"
   ]
  },
  {
   "cell_type": "code",
   "execution_count": 13,
   "id": "df65f0bc",
   "metadata": {},
   "outputs": [
    {
     "name": "stdout",
     "output_type": "stream",
     "text": [
      "tensor([[83272187614028302909440., 2037482514617940836352., 15709571449012355072., 766900879836704682782228480., 1999047104349077504., 178557889363653989236736., 48402872943608335224012800., 192563432787017728., 111222800384., 2126244067760176998907904.],\n",
      "        [107223384274697405333504., 64500034893711933440., 1078820262050267136., 166953157959033770999808., 227734215196672., 169807942475027841024., 111437992769422884864., 105106942984192., 4851628799374433189888., 243510487896139889303879680.],\n",
      "        [2183127773645598070145024., 12247391693746267488256., 185161022292623360., 3720886117809302167093248., 8439986126848., 167555415330002772688896., 269958463222911598592., 1518345966845952., 37124117308414885888., 95579673818985528245092352.],\n",
      "        [3491821296549888., 123659821056., 2002426351003300819632128., 23539176158219206656., 1579327733751514180247093248., 1198575744., 1050389096725616443523072., 14773356058378240., 6851196002238464., 104571340343822254080.],\n",
      "        [8094273925758372414488576., 29397570826834083315712., 3143709177584745933392838656., 9702186102325522391367680., 12775875986528881036230656., 316672296648416690176., 13112366503941930787799040., 3998664395830624388120576., 5304255761573910413312., 17056182253465152520192.],\n",
      "        [36021399856576011960320., 12491744017697996800., 662458071222507815707869184., 2983674384809674460364800., 277649286857543797773959168., 273260078662942720., 131783143057583451989344256., 3295360690015633932288., 135188121228547194880., 273067080465528454643712.],\n",
      "        [1585277012782391826055168., 3736369209601425408000., 30215658418114812503392256., 692813369187417600303300608., 4749110514781634091286528., 1575405593025356759040., 2219762089650467572604207104., 6352893602059226447872., 215815543913971712., 2916425914597837834813440.],\n",
      "        [1755080359333999935488., 5241813383526744064., 19338916167090901614592., 145118607943117339914928128., 236917388818167353049088., 38918366353317429248., 3291689548839854315162042368., 1560599250587353088., 253340270592., 541592010490876121841664.],\n",
      "        [12299523408470470071156736., 70818180902477438648320., 5358427037012852736., 865854570368471616454656., 30931597393920., 126230709408424272068608., 38086783718997884928., 84709210482278400., 25516215545578859266048., 17685723646948664064081920.],\n",
      "        [8380924799448772778131456., 2567059858051714967928832., 2432268702318592., 3635551479724321781317632., 7804760576., 158722685092480549476368384., 12244383588262346752., 48677815008100352., 9472798405689344., 99098485222954567204864.]])\n"
     ]
    },
    {
     "data": {
      "image/png": "[encoded data removed]",
      "text/plain": [
       "<Figure size 432x288 with 2 Axes>"
      ]
     },
     "metadata": {
      "needs_background": "light"
     },
     "output_type": "display_data"
    }
   ],
   "source": [
    "queries = torch.tensor([\n",
    "    [2.05, 1.11, 0.72, 3.17],\n",
    "    [0.03, 2.66, 1.63, 2.50],\n",
    "    [0.19, 2.00, 1.71, 3.00],\n",
    "    [2.68, 2.94, 0.39, 0.24],\n",
    "    [2.44, 2.08, 2.10, 1.15],\n",
    "    [2.49, 2.57, 1.41, 1.11],\n",
    "    [2.57, 1.95, 1.30, 1.97],\n",
    "    [2.76, 1.60, 0.43, 2.37],\n",
    "    [0.12, 2.14, 2.17, 2.58],\n",
    "    [0.40, 0.85, 1.92, 3.38]\n",
    "], dtype=torch.float32)\n",
    "\n",
    "keys = torch.tensor([\n",
    "    [1.42, 1.20, 2.79, 2.19],\n",
    "    [1.35, 0.36, 3.04, 2.18],\n",
    "    [2.65, 2.01, 2.15, 0.58],\n",
    "    [2.01, 1.54, 1.51, 2.70],\n",
    "    [3.15, 2.33, 0.75, 0.30],\n",
    "    [1.18, 0.13, 2.57, 2.83],\n",
    "    [2.72, 1.97, 0.64, 2.07],\n",
    "    [2.44, 0.48, 3.05, 0.70],\n",
    "    [0.18, 2.50, 3.10, 0.31],\n",
    "    [0.98, 2.70, 0.83, 2.65]\n",
    "], dtype=torch.float32)\n",
    "\n",
    "seq_len = keys.shape[0]\n",
    "keys = keys.transpose(0, 1)\n",
    "\n",
    "att_original = queries @ keys\n",
    "# mask = torch.triu(torch.full((seq_len, seq_len), -float('inf')), diagonal=1)\n",
    "# att_original += mask\n",
    "# att_original /= seq_len**(1/2)\n",
    "att = att_original.exp()\n",
    "print(att)\n",
    "sums = att.sum(dim=-1)\n",
    "sums = sums.unsqueeze(0).transpose(0, 1)\n",
    "att = att / sums\n",
    "# print(F.softmax(att_original, -1))\n",
    "visMatr(att)"
   ]
  },
  {
   "cell_type": "code",
   "execution_count": 18,
   "id": "208fc5c7",
   "metadata": {},
   "outputs": [
    {
     "name": "stdout",
     "output_type": "stream",
     "text": [
      "attention: tensor([[    1.00,     0.00,     0.00,     0.00,     0.00,     0.00,     0.00,     0.00,     0.00,     0.00],\n",
      "        [    0.95,     0.05,     0.00,     0.00,     0.00,     0.00,     0.00,     0.00,     0.00,     0.00],\n",
      "        [    0.88,     0.11,     0.00,     0.00,     0.00,     0.00,     0.00,     0.00,     0.00,     0.00],\n",
      "        [    0.00,     0.00,     0.99,     0.01,     0.00,     0.00,     0.00,     0.00,     0.00,     0.00],\n",
      "        [    0.07,     0.01,     0.76,     0.08,     0.09,     0.00,     0.00,     0.00,     0.00,     0.00],\n",
      "        [    0.01,     0.00,     0.54,     0.06,     0.38,     0.00,     0.00,     0.00,     0.00,     0.00],\n",
      "        [    0.03,     0.00,     0.09,     0.32,     0.04,     0.00,     0.51,     0.00,     0.00,     0.00],\n",
      "        [    0.00,     0.00,     0.01,     0.22,     0.02,     0.00,     0.75,     0.00,     0.00,     0.00],\n",
      "        [    0.57,     0.07,     0.00,     0.20,     0.00,     0.09,     0.00,     0.00,     0.05,     0.00],\n",
      "        [    0.17,     0.11,     0.00,     0.13,     0.00,     0.56,     0.00,     0.00,     0.00,     0.03]])\n",
      "values: tensor([[1.05, 0.80, 2.20, 0.50],\n",
      "        [0.60, 1.25, 1.15, 0.95],\n",
      "        [0.75, 1.60, 0.90, 2.10],\n",
      "        [1.30, 0.55, 0.40, 1.75],\n",
      "        [0.85, 1.10, 0.30, 1.45],\n",
      "        [2.05, 0.70, 1.20, 0.25],\n",
      "        [1.50, 0.95, 1.40, 0.65],\n",
      "        [0.40, 1.80, 0.35, 1.00],\n",
      "        [1.15, 0.45, 2.00, 0.80],\n",
      "        [0.25, 1.35, 1.05, 1.65]])\n",
      "att @ values: tensor([[1.05, 0.80, 2.20, 0.50],\n",
      "        [1.03, 0.82, 2.15, 0.52],\n",
      "        [1.00, 0.85, 2.08, 0.55],\n",
      "        [0.76, 1.59, 0.89, 2.10],\n",
      "        [0.82, 1.42, 0.91, 1.89],\n",
      "        [0.83, 1.33, 0.65, 1.81],\n",
      "        [1.32, 0.88, 1.01, 1.17],\n",
      "        [1.44, 0.87, 1.16, 0.91],\n",
      "        [1.17, 0.76, 1.65, 0.78],\n",
      "        [1.57, 0.78, 1.26, 0.60]])\n"
     ]
    }
   ],
   "source": [
    "# plug out the values:\n",
    "values = torch.tensor([\n",
    "    [1.05, 0.80, 2.20, 0.50],\n",
    "    [0.60, 1.25, 1.15, 0.95],\n",
    "    [0.75, 1.60, 0.90, 2.10],\n",
    "    [1.30, 0.55, 0.40, 1.75],\n",
    "    [0.85, 1.10, 0.30, 1.45],\n",
    "    [2.05, 0.70, 1.20, 0.25],\n",
    "    [1.50, 0.95, 1.40, 0.65],\n",
    "    [0.40, 1.80, 0.35, 1.00],\n",
    "    [1.15, 0.45, 2.00, 0.80],\n",
    "    [0.25, 1.35, 1.05, 1.65]\n",
    "], dtype=torch.float32)\n",
    "\n",
    "print(\"attention:\", att)\n",
    "print(\"values:\", values)\n",
    "print(\"att @ values:\", att@values)"
   ]
  }
 ],
 "metadata": {
  "kernelspec": {
   "display_name": "Python 3 (ipykernel)",
   "language": "python",
   "name": "python3"
  },
  "language_info": {
   "codemirror_mode": {
    "name": "ipython",
    "version": 3
   },
   "file_extension": ".py",
   "mimetype": "text/x-python",
   "name": "python",
   "nbconvert_exporter": "python",
   "pygments_lexer": "ipython3",
   "version": "3.7.0"
  }
 },
 "nbformat": 4,
 "nbformat_minor": 5
}
